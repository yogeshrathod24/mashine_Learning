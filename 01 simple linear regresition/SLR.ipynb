{
 "cells": [
  {
   "cell_type": "markdown",
   "id": "a274bd11",
   "metadata": {},
   "source": [
    "# Simple Linear Regression\n"
   ]
  },
  {
   "cell_type": "code",
   "execution_count": 8,
   "id": "dcadb6f5",
   "metadata": {},
   "outputs": [],
   "source": [
    "# ignore non harmful warning\n",
    "from warnings import filterwarnings\n",
    "\n",
    "filterwarnings(\"ignore\")"
   ]
  },
  {
   "cell_type": "markdown",
   "id": "6fe84300",
   "metadata": {},
   "source": [
    "# step- 2 perform basic data quality check"
   ]
  },
  {
   "cell_type": "code",
   "execution_count": null,
   "id": "34627ec8",
   "metadata": {},
   "outputs": [],
   "source": []
  }
 ],
 "metadata": {
  "kernelspec": {
   "display_name": ".venv",
   "language": "python",
   "name": "python3"
  },
  "language_info": {
   "codemirror_mode": {
    "name": "ipython",
    "version": 3
   },
   "file_extension": ".py",
   "mimetype": "text/x-python",
   "name": "python",
   "nbconvert_exporter": "python",
   "pygments_lexer": "ipython3",
   "version": "3.13.3"
  }
 },
 "nbformat": 4,
 "nbformat_minor": 5
}
